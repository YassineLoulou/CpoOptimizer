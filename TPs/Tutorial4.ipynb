{
 "cells": [
  {
   "cell_type": "markdown",
   "metadata": {},
   "source": [
    "# Tutorial 4: Scheduling with CP: Some Basics "
   ]
  },
  {
   "cell_type": "markdown",
   "metadata": {},
   "source": [
    "Today we discover a new family of problems, called scheduling. Scheduling problems are widely present in real life applications such as timetabelling, transportation, project management, and manufacturing. We consider a particular problem called the job shop scheduling problem.  In this problem, we are given a set of $n$ jobs: $J_1, J_2, \\ldots,  J_n$ and a set of $m$ machines $M_1, M_2, \\ldots,  M_m$. \n",
    "Each job $J_i$ is defined by a set of $m$ (non-preemptive) tasks $T_{i,1} \\ldots T_{i,m}$. Every task $T_{i,k}$ is associated with a duration $p_{i,k}$ and is supposed to be scheduled on machine $M_k$. \n",
    "\n",
    "The problem has two sets of constraints: \n",
    "\n",
    " - Precedence constraints: Each job is associated with an order of tasks to respect when scheduling the different tasks.\n",
    " - Disjunctive constraints: Each machine can process only one task at a given time\n",
    "\n",
    "\n",
    "The standard optimisation version of this problem asks to minimize the makespan, i.e., the total scheduling time.\n"
   ]
  },
  {
   "cell_type": "markdown",
   "metadata": {},
   "source": [
    "Constraint programming has been widely and successfully used to solve scheduling problems. Many global constraints have been proposed. CP solvers often offer a dedicated library for scheduling. \n",
    "Please have a look at the diffrent features proposed in docplex here http://ibmdecisionoptimization.github.io/docplex-doc/cp/docplex.cp.modeler.py.html?highlight=scheduling#scheduling-functions \n"
   ]
  },
  {
   "cell_type": "markdown",
   "metadata": {},
   "source": [
    "In this tutorial, we will be using (only): \n",
    " - Interval variables for the different variables of the problem:  http://ibmdecisionoptimization.github.io/docplex-doc/cp/docplex.cp.expression.py.html?highlight=interval_var#docplex.cp.expression.interval_var\n",
    " \n",
    " - end_before_start constraints to model precedence constraints : http://ibmdecisionoptimization.github.io/docplex-doc/cp/docplex.cp.modeler.py.html?highlight=end_before_start#docplex.cp.modeler.end_before_start\n",
    "\n",
    "- no_overlap global constraint : http://ibmdecisionoptimization.github.io/docplex-doc/cp/docplex.cp.modeler.py.html?highlight=no_overlap#docplex.cp.modeler.no_overlap\n"
   ]
  },
  {
   "cell_type": "markdown",
   "metadata": {},
   "source": [
    "The format for a job shop scheduling instance respects the following syntax: \n",
    " - The first line containts only $n$ $m$ in this order  ($n$ is the number of jobs and $m$ is the number of machines)\n",
    " - Then $n$ lines are given. Each line $i$ is associated to the job $J_i$ and contains exactly $2 m$ integers $x^i_1$ $d^i_1$ $x^i_2$ $d^i_2$ $\\ldots$ $x^i_n$ $d^i_n$. Each $x^i_k$ is the $k^{th}$ machine required by the $k^{th}$ task of the job $J_i$, and $d^i_k$ represents its duration. "
   ]
  },
  {
   "cell_type": "markdown",
   "metadata": {},
   "source": [
    "Consider for example the data file instance.data : \n",
    "    \n",
    " 6  6\n",
    "     \n",
    "2   1  0   3  1   6  3   7  5   3  4   6\n",
    "\n",
    "1   8  2   5  4  10  5  10  0  10  3   4\n",
    "\n",
    "2   5  3   4  5   8  0   9  1   1  4   7\n",
    " \n",
    " 1   5  0   5  2   5  3   3  4   8  5   9\n",
    " \n",
    " 2   9  1   3  4   5  5   4  0   3  3   1\n",
    " \n",
    " 1   3  3   3  5   9  0  10  4   4  2   1\n"
   ]
  },
  {
   "cell_type": "markdown",
   "metadata": {},
   "source": [
    "This instance has $6$ jobs and $6$ machines. The first job requires the execution of task $T_{1,2}$ (on machine $2$) of duration $1$, \n",
    "then $T_{1,0}$ (on machine $0$) of duration $3$, etc. "
   ]
  },
  {
   "cell_type": "markdown",
   "metadata": {},
   "source": [
    "Write a simple python code to parse the data file instance.data"
   ]
  },
  {
   "cell_type": "code",
   "execution_count": 60,
   "metadata": {},
   "outputs": [
    {
     "name": "stdout",
     "output_type": "stream",
     "text": [
      "[6, 6]\n",
      "[2, 1, 0, 3, 1, 6, 3, 7, 5, 3, 4, 6]\n",
      "[1, 8, 2, 5, 4, 10, 5, 10, 0, 10, 3, 4]\n",
      "[2, 5, 3, 4, 5, 8, 0, 9, 1, 1, 4, 7]\n",
      "[1, 5, 0, 5, 2, 5, 3, 3, 4, 8, 5, 9]\n",
      "[2, 9, 1, 3, 4, 5, 5, 4, 0, 3, 3, 1]\n",
      "[1, 3, 3, 3, 5, 9, 0, 10, 4, 4, 2, 1]\n",
      "\n",
      "[[ 1.  3.  6.  7.  3.  6.]\n",
      " [ 8.  5. 10. 10. 10.  4.]\n",
      " [ 5.  4.  8.  9.  1.  7.]\n",
      " [ 5.  5.  5.  3.  8.  9.]\n",
      " [ 9.  3.  5.  4.  3.  1.]\n",
      " [ 3.  3.  9. 10.  4.  1.]]\n",
      "\n",
      "[[2. 0. 1. 3. 5. 4.]\n",
      " [1. 2. 4. 5. 0. 3.]\n",
      " [2. 3. 5. 0. 1. 4.]\n",
      " [1. 0. 2. 3. 4. 5.]\n",
      " [2. 1. 4. 5. 0. 3.]\n",
      " [1. 3. 5. 0. 4. 2.]]\n"
     ]
    }
   ],
   "source": [
    "import numpy as np\n",
    "\n",
    "file = open('example.data', 'r')\n",
    "lines = file.readlines()\n",
    "i=-1\n",
    "\n",
    "for line in lines:\n",
    "    numbers = [int(num) for num in line.split()]\n",
    "    print(numbers)\n",
    "    if(i==-1):\n",
    "        n=numbers[0]\n",
    "        m=numbers[1]\n",
    "        duration=np.zeros((n,m))\n",
    "        machine=np.zeros((n,m))\n",
    "    else :\n",
    "        for j in range(0,2*m,2):\n",
    "            duration[i][j//2]=numbers[j+1]\n",
    "            machine[i][j//2]=numbers[j]\n",
    "        \n",
    "    i=i+1\n",
    "    \n",
    "    \n",
    "file.close()\n",
    "print()\n",
    "print(duration)\n",
    "print()\n",
    "print(machine)"
   ]
  },
  {
   "cell_type": "code",
   "execution_count": null,
   "metadata": {},
   "outputs": [],
   "source": []
  },
  {
   "cell_type": "markdown",
   "metadata": {},
   "source": [
    "Create a matrix machine that satisfies: machine[i][k] is the machine of the $k^{th}$ task of job $i$ (one line)"
   ]
  },
  {
   "cell_type": "code",
   "execution_count": null,
   "metadata": {},
   "outputs": [],
   "source": []
  },
  {
   "cell_type": "markdown",
   "metadata": {},
   "source": [
    "Create a matrix duration that satisfies: duration[i][k] is the duration of the $k^{th}$ task of job $i$ (one line)"
   ]
  },
  {
   "cell_type": "code",
   "execution_count": null,
   "metadata": {},
   "outputs": [],
   "source": []
  },
  {
   "cell_type": "markdown",
   "metadata": {},
   "source": [
    "Compute a naive upper bound for the makespan. Note: this upper bound will be used as an upper bound for every interval variable we create."
   ]
  },
  {
   "cell_type": "code",
   "execution_count": null,
   "metadata": {},
   "outputs": [],
   "source": []
  },
  {
   "cell_type": "markdown",
   "metadata": {},
   "source": [
    "Create a CpoModel() and the different interval variables you need to solve this problem (don't forget to use the upper bound you computed earlier)"
   ]
  },
  {
   "cell_type": "code",
   "execution_count": 61,
   "metadata": {},
   "outputs": [],
   "source": [
    "from config import setup\n",
    "setup()\n",
    "from docplex.cp.model import *\n",
    "from docplex.cp.config import get_default\n",
    "import numpy as np\n",
    "\n",
    "\n",
    "mdl=CpoModel()\n",
    "M=[]\n",
    "\n",
    "for i in range(n): \n",
    "    M.append([ mdl.interval_var(size=int(duration[i][k])) for k in range (m) ] )\n",
    "\n",
    "for i in range (n) :\n",
    "    for j in range (m-1) :\n",
    "        mdl.add(mdl.end_before_start(M[i][j],M[i][j+1]))\n",
    "        \n",
    "        \n",
    "for i in range(m):\n",
    "    seq=[M[k][np.where(machine[k]==i)[0][0]] for k in range(n)]\n",
    "    mdl.add(no_overlap(seq))\n",
    "    \n",
    "        \n",
    "makespan = mdl.max([mdl.end_of(M[i][m-1]) for i in range(n)])\n",
    "mdl.add(mdl.minimize(makespan)) \n",
    "\n"
   ]
  },
  {
   "cell_type": "markdown",
   "metadata": {},
   "source": [
    "Post the precedence constraints using the end_before_start constraints "
   ]
  },
  {
   "cell_type": "code",
   "execution_count": 62,
   "metadata": {},
   "outputs": [
    {
     "name": "stdout",
     "output_type": "stream",
     "text": [
      " ! --------------------------------------------------- CP Optimizer 22.1.1.0 --\n",
      " ! Minimization problem - 42 variables, 36 constraints\n",
      " ! Presolve             = Off\n",
      " ! Workers              = 1\n",
      " ! Initial process time : 0.01s (0.01s extraction + 0.00s propagation)\n",
      " !  . Log search space  : 186.1 (before), 186.1 (after)\n",
      " !  . Memory usage      : 372.6 kB (before), 372.6 kB (after)\n",
      " ! Using sequential search.\n",
      " ! ----------------------------------------------------------------------------\n",
      " !          Best Branches  Non-fixed            Branch decision\n",
      "                        0         42                 -\n",
      " + New bound is 9\n",
      "                        0         42                 -\n",
      " + New bound is 47\n",
      " *            65       73  0.01s               (gap is 27.69%)\n",
      " *            64      145  0.01s               (gap is 26.56%)\n",
      " *            62      217  0.01s               (gap is 24.19%)\n",
      " *            61      289  0.01s               (gap is 22.95%)\n",
      " *            60      361  0.01s               (gap is 21.67%)\n",
      " *            59      441  0.01s               (gap is 20.34%)\n",
      " *            58      509  0.01s               (gap is 18.97%)\n",
      " *            57      540  0.01s               (gap is 17.54%)\n",
      " *            56      587  0.01s               (gap is 16.07%)\n",
      " *            55      618  0.02s               (gap is 14.55%)\n",
      "              55      619          1        F        -\n",
      " + New bound is 55 (gap is 0.00%)\n",
      " ! ----------------------------------------------------------------------------\n",
      " ! Search completed, 10 solutions found.\n",
      " ! Best objective         : 55 (optimal - effective tol. is 0)\n",
      " ! Best bound             : 55\n",
      " ! ----------------------------------------------------------------------------\n",
      " ! Number of branches     : 620\n",
      " ! Number of fails        : 12\n",
      " ! Total memory usage     : 900.6 kB (845.9 kB CP Optimizer + 54.6 kB Concert)\n",
      " ! Time spent in solve    : 0.02s (0.02s engine + 0.01s extraction)\n",
      " ! Search speed (br. / s) : 56363.6\n",
      " ! ----------------------------------------------------------------------------\n"
     ]
    }
   ],
   "source": [
    "sol=mdl.solve()"
   ]
  },
  {
   "cell_type": "markdown",
   "metadata": {},
   "source": [
    "Post the disjunctive constraints using the no-overlap constraints "
   ]
  },
  {
   "cell_type": "code",
   "execution_count": null,
   "metadata": {},
   "outputs": [],
   "source": []
  },
  {
   "cell_type": "markdown",
   "metadata": {},
   "source": [
    "Create a makespan interval variable and link it to some variables using the max global constraint\n",
    "http://ibmdecisionoptimization.github.io/docplex-doc/cp/docplex.cp.modeler.py.html?highlight=max#docplex.cp.modeler.max"
   ]
  },
  {
   "cell_type": "code",
   "execution_count": null,
   "metadata": {},
   "outputs": [],
   "source": []
  },
  {
   "cell_type": "markdown",
   "metadata": {},
   "source": [
    "Add now the makespan as an objective function "
   ]
  },
  {
   "cell_type": "code",
   "execution_count": null,
   "metadata": {},
   "outputs": [],
   "source": []
  },
  {
   "cell_type": "markdown",
   "metadata": {},
   "source": [
    "Solve this instance. What is the value of the makespan you found. You can print the solution in a format that is easy \n",
    "to see visually.  "
   ]
  },
  {
   "cell_type": "code",
   "execution_count": null,
   "metadata": {},
   "outputs": [],
   "source": []
  },
  {
   "cell_type": "code",
   "execution_count": null,
   "metadata": {},
   "outputs": [],
   "source": []
  },
  {
   "cell_type": "markdown",
   "metadata": {},
   "source": [
    "Factorise your code so that it takes as input the data file and it solves the problem. Try to use few other instances https://github.com/tamy0612/JSPLIB/tree/master/instances\n",
    "    \n",
    "    \n"
   ]
  },
  {
   "cell_type": "code",
   "execution_count": null,
   "metadata": {},
   "outputs": [],
   "source": []
  },
  {
   "cell_type": "code",
   "execution_count": null,
   "metadata": {},
   "outputs": [],
   "source": []
  },
  {
   "cell_type": "markdown",
   "metadata": {},
   "source": [
    "At this stage you are completly free to play. Try different instances, different configurations of the solver, different branching strategies, restarts, randomisation, etc. \n",
    "\n",
    "You may want to present your results as a cactus 🌵 plot : in the x-axis we have the runtime, on the y-axis, we have the number of instances solved. Also, some instances are still open in the literature. Have a look here for an up to date list of bounds http://optimizizer.com/TA.php"
   ]
  },
  {
   "cell_type": "code",
   "execution_count": null,
   "metadata": {},
   "outputs": [],
   "source": []
  },
  {
   "cell_type": "markdown",
   "metadata": {},
   "source": [
    "What did you learn loday? "
   ]
  },
  {
   "cell_type": "raw",
   "metadata": {},
   "source": [
    "We learnt how to resolve scheduling problem with CSP, by considering the two following global constraints : the end_before_start and no_overlap. "
   ]
  }
 ],
 "metadata": {
  "kernelspec": {
   "display_name": "Python 3 (ipykernel)",
   "language": "python",
   "name": "python3"
  },
  "language_info": {
   "codemirror_mode": {
    "name": "ipython",
    "version": 3
   },
   "file_extension": ".py",
   "mimetype": "text/x-python",
   "name": "python",
   "nbconvert_exporter": "python",
   "pygments_lexer": "ipython3",
   "version": "3.10.9"
  },
  "latex_envs": {
   "LaTeX_envs_menu_present": true,
   "autoclose": false,
   "autocomplete": true,
   "bibliofile": "biblio.bib",
   "cite_by": "apalike",
   "current_citInitial": 1,
   "eqLabelWithNumbers": true,
   "eqNumInitial": 1,
   "hotkeys": {
    "equation": "Ctrl-E",
    "itemize": "Ctrl-I"
   },
   "labels_anchors": false,
   "latex_user_defs": false,
   "report_style_numbering": false,
   "user_envs_cfg": false
  }
 },
 "nbformat": 4,
 "nbformat_minor": 2
}
