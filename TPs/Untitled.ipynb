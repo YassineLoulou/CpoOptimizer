{
 "cells": [
  {
   "cell_type": "code",
   "execution_count": 7,
   "id": "3c3082be",
   "metadata": {},
   "outputs": [
    {
     "name": "stdout",
     "output_type": "stream",
     "text": [
      "x_1 = intVar(1..3)\n"
     ]
    }
   ],
   "source": [
    "from config import setup\n",
    "setup()\n",
    "## install docplex first with $pip install docplex\n",
    "from docplex.cp.model import *\n",
    "from docplex.cp.config import get_default\n",
    "##Complete Here\n",
    "mdl = CpoModel(name='My first docplex model')\n",
    "x,y,z = mdl.integer_var_list(3,1,3,'x')\n",
    "mdl.add(x!=y, x!=z ,y!=z)\n",
    "sol = mdl.solve()\n",
    "sol.get_solver_log()"
   ]
  }
 ],
 "metadata": {
  "kernelspec": {
   "display_name": "Python 3 (ipykernel)",
   "language": "python",
   "name": "python3"
  },
  "language_info": {
   "codemirror_mode": {
    "name": "ipython",
    "version": 3
   },
   "file_extension": ".py",
   "mimetype": "text/x-python",
   "name": "python",
   "nbconvert_exporter": "python",
   "pygments_lexer": "ipython3",
   "version": "3.10.9"
  }
 },
 "nbformat": 4,
 "nbformat_minor": 5
}
